{
 "cells": [
  {
   "cell_type": "code",
   "execution_count": 5,
   "id": "3dd1b05f-851e-4e8a-8bfc-df449cda8ba0",
   "metadata": {},
   "outputs": [
    {
     "name": "stdout",
     "output_type": "stream",
     "text": [
      "URL 문자열: http://unico2013.dothome.co.kr/crawling/exercise.php?category=%EC%97%AD%EC%82%AC&page=25\n",
      "﻿<!DOCTYPE html>\n",
      "<html>  \n",
      "  <head>    \n",
      "   <meta charset=\"utf-8\">    \n",
      "   <title>TEST</title>  \n",
      "  </head>  \n",
      "  <body>   \n",
      "    <h1 style='color : red'>카테고리 : 역사</h1>\n",
      "    <h2 style='color : blue'>페이지 : 25</h2>   \n",
      "  </body>\n",
      "</html>\n"
     ]
    }
   ],
   "source": [
    "import urllib.request\n",
    "import urllib.parse\n",
    "\n",
    "params = urllib.parse.urlencode({'category':'역사', 'page':25})\n",
    "urlstr = \"http://unico2013.dothome.co.kr/crawling/exercise.php?%s\" %params\n",
    "print(\"URL 문자열:\", urlstr)\n",
    "with urllib.request.urlopen(urlstr) as h:\n",
    "    print(h.read().decode('utf-8'))"
   ]
  },
  {
   "cell_type": "code",
   "execution_count": 9,
   "id": "3d3f9e2c-c984-4697-b5e0-cc81013dabf3",
   "metadata": {},
   "outputs": [
    {
     "name": "stdout",
     "output_type": "stream",
     "text": [
      "URL 문자열 : http://unico2013.dothome.co.kr/crawling/exercise.php?category=%EC%97%AC%ED%96%89&page=100 \n",
      "\n",
      "﻿<!DOCTYPE html>\n",
      "<html>  \n",
      "  <head>    \n",
      "   <meta charset=\"utf-8\">    \n",
      "   <title>TEST</title>  \n",
      "  </head>  \n",
      "  <body>   \n",
      "    <h1 style='color : red'>카테고리 : 여행</h1>\n",
      "    <h2 style='color : blue'>페이지 : 100</h2>   \n",
      "  </body>\n",
      "</html>\n"
     ]
    }
   ],
   "source": [
    "import requests\n",
    "\n",
    "urlstr = \"http://unico2013.dothome.co.kr/crawling/exercise.php\"\n",
    "dicdata =  {'category':'여행', 'page':100}\n",
    "r = requests.get(urlstr, params=dicdata)\n",
    "print(\"URL 문자열 :\", r.url, '\\n')\n",
    "r.encoding = \"utf-8\"\n",
    "print(r.text)"
   ]
  },
  {
   "cell_type": "code",
   "execution_count": 12,
   "id": "c7e286cb-1c2b-4fa5-bf05-ac38fdbd89cb",
   "metadata": {
    "collapsed": true,
    "jupyter": {
     "outputs_hidden": true
    },
    "tags": []
   },
   "outputs": [
    {
     "name": "stdout",
     "output_type": "stream",
     "text": [
      "URL 문자열 : http://unico2013.dothome.co.kr/crawling/exercise.php?category=%EC%97%AD%EC%82%AC&page=25\n",
      "﻿<!DOCTYPE html>\n",
      "<html>  \n",
      "  <head>    \n",
      "   <meta charset=\"utf-8\">    \n",
      "   <title>TEST</title>  \n",
      "  </head>  \n",
      "  <body>   \n",
      "    <h1 style='color : red'>카테고리 : 역사</h1>\n",
      "    <h2 style='color : blue'>페이지 : 25</h2>   \n",
      "  </body>\n",
      "</html>\n"
     ]
    }
   ],
   "source": [
    "import urllib.request\n",
    "import urllib.parse\n",
    "\n",
    "params = urllib.parse.urlencode({'category':'역사', 'page':25})\n",
    "urlstr = \"http://unico2013.dothome.co.kr/crawling/exercise.php?%s\" %params\n",
    "print(\"URL 문자열 :\", urlstr)\n",
    "with urllib.request.urlopen(urlstr) as h:\n",
    "    print(h.read().decode('utf-8'))"
   ]
  },
  {
   "cell_type": "code",
   "execution_count": 14,
   "id": "c7cfdc21-051e-445d-97f7-2496cbee9f93",
   "metadata": {},
   "outputs": [
    {
     "name": "stdout",
     "output_type": "stream",
     "text": [
      "URL 문자열 : http://unico2013.dothome.co.kr/crawling/exercise.php?category=%EC%97%AC%ED%96%89&page=100 \n",
      "\n",
      "﻿<!DOCTYPE html>\n",
      "<html>  \n",
      "  <head>    \n",
      "   <meta charset=\"utf-8\">    \n",
      "   <title>TEST</title>  \n",
      "  </head>  \n",
      "  <body>   \n",
      "    <h1 style='color : red'>카테고리 : 여행</h1>\n",
      "    <h2 style='color : blue'>페이지 : 100</h2>   \n",
      "  </body>\n",
      "</html>\n"
     ]
    }
   ],
   "source": [
    "import requests\n",
    "\n",
    "urlstr = \"http://unico2013.dothome.co.kr/crawling/exercise.php\"\n",
    "dicdata = {'category':'여행', 'page':100}\n",
    "r = requests.get(urlstr, params=dicdata)\n",
    "print(\"URL 문자열 :\", r.url, '\\n')\n",
    "r.encoding = \"utf-8\"\n",
    "print(r.text)"
   ]
  },
  {
   "cell_type": "code",
   "execution_count": null,
   "id": "8cd414be-5969-4167-9753-d999baaff574",
   "metadata": {},
   "outputs": [],
   "source": []
  }
 ],
 "metadata": {
  "kernelspec": {
   "display_name": "eduvenv",
   "language": "python",
   "name": "eduvenv"
  },
  "language_info": {
   "codemirror_mode": {
    "name": "ipython",
    "version": 3
   },
   "file_extension": ".py",
   "mimetype": "text/x-python",
   "name": "python",
   "nbconvert_exporter": "python",
   "pygments_lexer": "ipython3",
   "version": "3.9.15"
  }
 },
 "nbformat": 4,
 "nbformat_minor": 5
}
