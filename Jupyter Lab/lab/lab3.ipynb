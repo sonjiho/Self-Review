{
 "cells": [
  {
   "cell_type": "code",
   "execution_count": 2,
   "id": "756c23a8-3fe3-451d-b479-f1be330749f5",
   "metadata": {
    "collapsed": true,
    "jupyter": {
     "outputs_hidden": true
    },
    "tags": []
   },
   "outputs": [
    {
     "name": "stdout",
     "output_type": "stream",
     "text": [
      "--기사 제목--\n",
      "['尹, \\'우주 로드맵\\' 선포...\"2045년 화성 착륙 목표\"', '野 \"이상민 해임안 제출\"...與 \"국정조사 합의 파기\"', '서울 1인당 종부세 증가 폭...노·도·강 〉 강남4구', \"같은 자료 놓고도 해석은 엇갈렸다…'안전운임제' 쟁점은\", '육군 50사단 포항서 대규모 지·해·공 야간 사격 훈련', '법무부 \"모친 성 따르려면 혼인신고시 협의…위헌 아냐\"', '한계 다다른 ‘3년 봉쇄’…상하이에서 ‘시진핑 퇴진’ 구호 나왔다', '국힘 전당대회 일정도 ‘윤심’대로? “내년 2월 말~3월 초”', '\"광복 100주년인 2045년에 화성 착륙\"…한국판 NASA 내년 설립', '박지원 “尹-윤핵관 만찬 누가 까발렸나..국힘 지도부는 뭐가 되나”[여의도초대석]', '‘이태원 참사’ 한 달…경찰 수사 어디까지 왔나 [이태원 핼러윈 참사]', '英 경쟁당국, 대한항공·아시아나 합병 사실상 승인', '8억원 \\'머스크 동상\\' 제작한 가상화페 사업가…\"머스크는 무반응\"', '中 시위 촉발한 신장, 제로 코로나 정책 일부 완화', \"대기업 맞서다 대기업행…강자 편에 선 '공정위 전관들'\", '남욱 \"곽상도, 김만배에 \\'회삿돈 빼내고 징역 살다 오면 된다\\' 해\"', \"민선 8기 첫 조직개편 '민생·경제·복지·미래'\", '각계 파업에 멈춰선 현장', \"전국 고병원성 AI 확산에 제주도  '긴장'\", '시멘트 출하 부분 재개..숨통 텄지만 운송 참여 저조', \"[밀착카메라] 고통의 철창 밖으로…'작은 곰숲' 반달곰의 첫발\", '박지원 “尹-윤핵관 만찬 누가 까발렸나..국힘 지도부는 뭐가 되나”[여의도초대석]', '[뉴스하이킥]\\xa0화물연대 \"정부 측, 협상서 \\'권한 없다\\'만 반복.. \\'업무개시명령\\' 명분 쌓기 의심\"', '[뉴있저] \"가수 태연도 당했다\"...부동산 사기 일당 검찰 송치', \"[김주하의 '그런데'] '법률 세계'에 갇힌 결정 아닐까\", '[여랑야랑]한동훈이 말한 “정치 깡패”는? / 국민의힘 “더 탐사 논란의 배후는….”', '[아는 기자]왜 레미콘부터 업무개시명령?…건설 분야서 피해 발생', '[앵커의 마침표]도 넘은 불법의 일상화', '“이 정도 비쯤이야” 가나전 거리응원 시작', '오랜만에 서울 하늘에 나타난 무지개', '서울숲 거울연못', '비 피하는 시민']\n",
      "--기사 카테고리--\n",
      "['정치', '정치', '경제', '경제', '사회', '사회', '국제', '정치', '경제', '정치', '사회', '경제', '국제', '경제', '경제', '사회', '정치', '사회', '사회', '사회']\n"
     ]
    }
   ],
   "source": [
    "from bs4 import BeautifulSoup\n",
    "import requests\n",
    "import re\n",
    "\n",
    "req = requests.get('http://news.daum.net')\n",
    "html = req.text\n",
    "soup = BeautifulSoup(html, 'html.parser')\n",
    "\n",
    "titles = soup.select('div > div > strong > a')\n",
    "categories = soup.select('div > div > span > span.txt_category')\n",
    "\n",
    "news_title = []\n",
    "news_categories = []\n",
    "\n",
    "for dom in titles:\n",
    "    text = dom.get_text(strip=True)\n",
    "    news_title.append(text)\n",
    "    \n",
    "for dom in categories:\n",
    "    news_categories.append(dom.text)\n",
    "    \n",
    "print(\"--기사 제목--\")\n",
    "print(news_title)\n",
    "print(\"--기사 카테고리--\")\n",
    "print(news_categories)"
   ]
  },
  {
   "cell_type": "code",
   "execution_count": 5,
   "id": "c5a09300-d784-41b8-9a25-7a3c03e802e0",
   "metadata": {
    "collapsed": true,
    "jupyter": {
     "outputs_hidden": true
    },
    "tags": []
   },
   "outputs": [
    {
     "name": "stdout",
     "output_type": "stream",
     "text": [
      "--기사 제목--\n",
      "[\"충청 12개사 '코스닥 블루칩 기업' 선정...비수도권 가장 많아\", '대통령실, 용산 기자실 이전 보도에 \"검토·결정된 바 없다\"', '‘쇠구슬 투척’ 혐의 포함…민노총 화물연대 12명 수사 중', '“벌써 몇번째야”...전쟁통 러시아, LNG선박 계약 또 해지', '정부, 사상 첫 업무개시명령 발동 초읽기…화물연대 \"강경투쟁\"', '기저효과에… 11월 물가 상승률 4%대로 낮아지나', '尹, \\'우주 로드맵\\' 선포...\"2045년 화성 착륙 목표\"', '野 \"이상민 해임안 제출\"...與 \"국정조사 합의 파기\"', '서울 1인당 종부세 증가 폭...노·도·강 〉 강남4구', \"같은 자료 놓고도 해석은 엇갈렸다…'안전운임제' 쟁점은\", '육군 50사단 포항서 대규모 지·해·공 야간 사격 훈련', '법무부 \"모친 성 따르려면 혼인신고시 협의…위헌 아냐\"', '한계 다다른 ‘3년 봉쇄’…상하이에서 ‘시진핑 퇴진’ 구호 나왔다', '국힘 전당대회 일정도 ‘윤심’대로? “내년 2월 말~3월 초”', '\"광복 100주년인 2045년에 화성 착륙\"…한국판 NASA 내년 설립', '박지원 “尹-윤핵관 만찬 누가 까발렸나..국힘 지도부는 뭐가 되나”[여의도초대석]', '‘이태원 참사’ 한 달…경찰 수사 어디까지 왔나 [이태원 핼러윈 참사]', '英 경쟁당국, 대한항공·아시아나 합병 사실상 승인', '8억원 \\'머스크 동상\\' 제작한 가상화페 사업가…\"머스크는 무반응\"', '中 시위 촉발한 신장, 제로 코로나 정책 일부 완화', \"테슬라 저가 매수 지속, 반도체주 하락 베팅…美증시 전반엔 '신중'[서학픽]\", \"[밀착카메라] 고통의 철창 밖으로…'작은 곰숲' 반달곰의 첫발\", '박지원 “尹-윤핵관 만찬 누가 까발렸나..국힘 지도부는 뭐가 되나”[여의도초대석]', '[뉴스하이킥]\\xa0화물연대 \"정부 측, 협상서 \\'권한 없다\\'만 반복.. \\'업무개시명령\\' 명분 쌓기 의심\"', '[뉴있저] \"가수 태연도 당했다\"...부동산 사기 일당 검찰 송치', \"[김주하의 '그런데'] '법률 세계'에 갇힌 결정 아닐까\", '[여랑야랑]한동훈이 말한 “정치 깡패”는? / 국민의힘 “더 탐사 논란의 배후는….”', '[아는 기자]왜 레미콘부터 업무개시명령?…건설 분야서 피해 발생', '한국·가나 국기 나란히 얼굴에~ 축구로 하나되는 밤', '“이 정도 비쯤이야” 가나전 거리응원 시작', '오랜만에 서울 하늘에 나타난 무지개', '서울숲 거울연못']\n",
      "--기사 카테고리--\n",
      "['경제', '정치', '사회', '경제', '경제', '경제', '정치', '정치', '경제', '경제', '사회', '사회', '국제', '정치', '경제', '정치', '사회', '경제', '국제', '경제']\n"
     ]
    }
   ],
   "source": [
    "import requests\n",
    "from bs4 import BeautifulSoup\n",
    "import re\n",
    "\n",
    "req = requests.get(\"http://news.daum.net\")\n",
    "html = req.text\n",
    "soup = BeautifulSoup(html, 'html.parser')\n",
    "\n",
    "titles = soup.select(\"div > div > strong > a\")\n",
    "categories = soup.select(\"div > div > span > span.txt_category\")\n",
    "\n",
    "news_title = []\n",
    "news_categories = []\n",
    "\n",
    "for dom in titles :\n",
    "    text = dom.get_text(strip = True)\n",
    "    news_title.append(text)\n",
    "    \n",
    "for dom in categories :\n",
    "    news_categories.append(dom.text)\n",
    "    \n",
    "print(\"--기사 제목--\")\n",
    "print(news_title)\n",
    "print(\"--기사 카테고리--\")\n",
    "print(news_categories)"
   ]
  },
  {
   "cell_type": "code",
   "execution_count": null,
   "id": "abf9c8de-3334-464c-b8e6-347804e65c61",
   "metadata": {},
   "outputs": [],
   "source": [
    "import request\n",
    "import re\n",
    "from bs4 import BeautifulSoup\n",
    "\n",
    "req = request.get(\"http://news.daum.net\")\n",
    "html = req.text\n",
    "soup = BeautifulSoup(html, 'html.parser')\n",
    "\n",
    "titles = soup.select('div > div > strong > a')\n",
    "news = soup.seslect('div > div > span > span.txt_category')\n",
    "\n",
    "news_titles = []\n",
    "news_categories = []\n",
    "\n",
    "for dom in titles:\n",
    "    text = dom.get_text(strip = True)\n",
    "    news_titles.append(text)\n",
    "    \n",
    "for dom in categories:\n",
    "    news_categories.append(dom.text)\n",
    "    \n",
    "print(\"--기사 제목--\")\n",
    "print(news_titles)\n",
    "print(\"--기사 카테고리--\")\n",
    "pri"
   ]
  }
 ],
 "metadata": {
  "kernelspec": {
   "display_name": "eduvenv",
   "language": "python",
   "name": "eduvenv"
  },
  "language_info": {
   "codemirror_mode": {
    "name": "ipython",
    "version": 3
   },
   "file_extension": ".py",
   "mimetype": "text/x-python",
   "name": "python",
   "nbconvert_exporter": "python",
   "pygments_lexer": "ipython3",
   "version": "3.9.15"
  }
 },
 "nbformat": 4,
 "nbformat_minor": 5
}
